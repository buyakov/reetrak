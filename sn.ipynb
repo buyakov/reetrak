{
 "cells": [
  {
   "cell_type": "code",
   "execution_count": 106,
   "metadata": {},
   "outputs": [],
   "source": [
    "import pymysql\n",
    "import pandas as pd\n",
    "\n",
    "conn = pymysql.connect(\n",
    "    host='192.168.5.23',\n",
    "    port=int(3306),\n",
    "    user=\"root\",\n",
    "    password=\"Alsi@TnTDB\",\n",
    "    db=\"reetrak\",\n",
    "    charset='utf8')\n",
    "\n",
    "SN = 'NMFG0BD60A40R'"
   ]
  },
  {
   "cell_type": "code",
   "execution_count": 107,
   "metadata": {},
   "outputs": [],
   "source": [
    "sq = \"SELECT * FROM secondary WHERE code='{}';\".format(SN)\n",
    "secondary = pd.read_sql_query(sq, conn)\n",
    "\n",
    "case_no=int(secondary['tertiaryid'])\n",
    "batchid=int(secondary['batchId'])\n",
    "\n",
    "sq4 = \"SELECT * FROM secondary WHERE batchid='{}' AND status = 1 AND isSpecimen = 0;\".format(batchid)\n",
    "\n",
    "product = pd.read_sql_query(\"SELECT * FROM product\",conn)\n",
    "product['name'] = product['name'].astype('str')\n",
    "\n",
    "sq1 = \"SELECT * FROM batchrequest  WHERE id ='{}';\".format(batchid)\n",
    "batchrequest = pd.read_sql_query(sq1,conn)\n",
    "\n",
    "productid=int(batchrequest['productId'])\n",
    "lotnumber=int(batchrequest['lotNumber'])\n",
    "\n",
    "productName=product[product.id == productid]['name'].to_string(index=False)\n",
    "\n",
    "sq2 = \"SELECT * FROM ssccdetail  WHERE batchid = '{}' and status = 1;\".format(batchid)\n",
    "sscc_batch = pd.read_sql_query(sq2,conn)\n",
    "sscc_count = sscc_batch.shape[0]\n",
    "\n",
    "case = sscc_batch[sscc_batch.id == case_no]\n",
    "sscc_case = int(case['code'])\n",
    "sn_case = int(case['sr_no'])\n",
    "palletid = int(case['palletid'])\n",
    "\n",
    "sq3 = \"SELECT * FROM palletdetail  WHERE batchid = '{}';\".format(batchid)\n",
    "pallet_batch = pd.read_sql_query(sq3,conn)\n",
    "pallet_batch['batchid'] = pallet_batch['batchid'].astype('int64')\n",
    "pallet_count = pallet_batch.shape[0]\n",
    "\n",
    "pallet = pallet_batch[pallet_batch.id == palletid]\n",
    "sscc_pallet = int(pallet['code'])\n",
    "sn_pallet = int(pallet['sr_no'])\n",
    "\n",
    "sq4 = \"SELECT * FROM secondary WHERE batchid='{}' AND status = 1 AND isSpecimen = 0;\".format(batchid)\n",
    "secondary_batch = pd.read_sql_query(sq4,conn)\n",
    "secondary_count = secondary_batch.shape[0]\n",
    "\n",
    "sq5 = \"SELECT * FROM secondary WHERE batchid='{}' AND status = 1 AND isSpecimen = 1;\".format(batchid)\n",
    "sample_batch = pd.read_sql_query(sq5,conn)\n",
    "sample_count = sample_batch.shape[0]\n",
    "\n",
    "sq6 = \"SELECT * FROM secondary WHERE batchid='{}' AND status = 0;\".format(batchid)\n",
    "rejected_batch = pd.read_sql_query(sq6,conn)\n",
    "rejected_count = rejected_batch.shape[0]"
   ]
  },
  {
   "cell_type": "code",
   "execution_count": 108,
   "metadata": {},
   "outputs": [
    {
     "name": "stdout",
     "output_type": "stream",
     "text": [
      "Отчет по пачке - NMFG0BD60A40R\n",
      "-------------------------------------------------------\n",
      "Наименование продукта -  Lisinopril-ALSI 10mg N30\n",
      "Номер серии - 430620\n",
      "-------------------------------------------------------\n",
      "Количество пачек в серии - 29663\n",
      "Количество образцов в серии - 14\n",
      "Количество брака в серии - 348\n",
      "Количество коробов в серии - 248\n",
      "Количество паллет в серии - 4\n",
      "-------------------------------------------------------\n",
      "Порядковый номер короба - 1\n",
      "SSCC короба - 46070116300087980\n",
      "Порядковый номер паллеты - 1\n",
      "SSCC паллеты - 46070116300090591\n"
     ]
    }
   ],
   "source": [
    "print(f'Отчет по пачке - {SN}')\n",
    "print('-'*55)\n",
    "print(f'Наименование продукта - {productName}')\n",
    "print(f'Номер серии - {lotnumber}')\n",
    "print('-'*55)\n",
    "print(f'Количество пачек в серии - {secondary_count}')\n",
    "print(f'Количество образцов в серии - {sample_count}')\n",
    "print(f'Количество брака в серии - {rejected_count}')\n",
    "print(f'Количество коробов в серии - {sscc_count}')\n",
    "print(f'Количество паллет в серии - {pallet_count}')\n",
    "print('-'*55)\n",
    "print(f'Порядковый номер короба - {sn_case}')\n",
    "print(f'SSCC короба - {sscc_case}')\n",
    "print(f'Порядковый номер паллеты - {sn_pallet}')\n",
    "print(f'SSCC паллеты - {sscc_pallet}')"
   ]
  },
  {
   "cell_type": "code",
   "execution_count": null,
   "metadata": {},
   "outputs": [],
   "source": []
  }
 ],
 "metadata": {
  "kernelspec": {
   "display_name": "Python 3",
   "language": "python",
   "name": "python3"
  },
  "language_info": {
   "codemirror_mode": {
    "name": "ipython",
    "version": 3
   },
   "file_extension": ".py",
   "mimetype": "text/x-python",
   "name": "python",
   "nbconvert_exporter": "python",
   "pygments_lexer": "ipython3",
   "version": "3.8.3"
  }
 },
 "nbformat": 4,
 "nbformat_minor": 4
}
